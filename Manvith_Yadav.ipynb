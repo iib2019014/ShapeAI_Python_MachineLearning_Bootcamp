{
  "nbformat": 4,
  "nbformat_minor": 0,
  "metadata": {
    "colab": {
      "name": "Manvith_Yadav.ipynb",
      "provenance": [],
      "collapsed_sections": []
    },
    "kernelspec": {
      "name": "python3",
      "display_name": "Python 3"
    },
    "language_info": {
      "name": "python"
    }
  },
  "cells": [
    {
      "cell_type": "code",
      "metadata": {
        "id": "3KDtc4xJI_wu"
      },
      "source": [
        "import numpy as np\n",
        "import pandas as pd\n",
        "import sklearn"
      ],
      "execution_count": 4,
      "outputs": []
    },
    {
      "cell_type": "code",
      "metadata": {
        "id": "OXeXvWsRJWNG"
      },
      "source": [
        "from sklearn.datasets import load_boston\n",
        "boston_dataset = load_boston()"
      ],
      "execution_count": 5,
      "outputs": []
    },
    {
      "cell_type": "code",
      "metadata": {
        "id": "y1M-LD2zKO0T"
      },
      "source": [
        "# print(boston_dataset)"
      ],
      "execution_count": 6,
      "outputs": []
    },
    {
      "cell_type": "code",
      "metadata": {
        "id": "4RP-gAJaKbv4"
      },
      "source": [
        "# print(boston_dataset.keys())"
      ],
      "execution_count": 7,
      "outputs": []
    },
    {
      "cell_type": "code",
      "metadata": {
        "id": "G9xDgCvVKsay"
      },
      "source": [
        "# print(boston_dataset['DESCR'])"
      ],
      "execution_count": 8,
      "outputs": []
    },
    {
      "cell_type": "code",
      "metadata": {
        "id": "OATVaCouLPpU"
      },
      "source": [
        "# print(boston_dataset['target'])"
      ],
      "execution_count": 9,
      "outputs": []
    },
    {
      "cell_type": "code",
      "metadata": {
        "id": "1ZyioO0gLY9y"
      },
      "source": [
        "# convert the dataset to a pandas dataframe\n",
        "boston_dataframe = pd.DataFrame(boston_dataset.data, columns=boston_dataset.feature_names)\n",
        "# print(boston_dataset)\n",
        "# print(boston_dataframe)\n",
        "# print(boston_dataframe.head(10))    head(n) function is used to get the first 'n' rows,\n",
        "# print(boston_dataframe.tail(10))    tail(n) function is used to get the last 'n' rows,"
      ],
      "execution_count": 10,
      "outputs": []
    },
    {
      "cell_type": "code",
      "metadata": {
        "id": "ZHqxoHsbNJvw"
      },
      "source": [
        "# when we created the boston dataframe we used the data as the records but we do not have the target (costs). so we will insert a new row at the end,\n",
        "boston_dataframe['MEDV'] = boston_dataset.target\n",
        "# 'MEDV' is the median value indicating the cost of that house,\n",
        "# boston_dataframe.head(5)"
      ],
      "execution_count": 11,
      "outputs": []
    },
    {
      "cell_type": "code",
      "metadata": {
        "id": "kAOoYgoKN_Uz"
      },
      "source": [
        "# use isnull() to check if the dataset has any NULL values,\n",
        "# boston_dataframe.isnull().head(10)"
      ],
      "execution_count": 12,
      "outputs": []
    },
    {
      "cell_type": "code",
      "metadata": {
        "id": "dZNYa8q2OUjM"
      },
      "source": [
        "# isnull().sum() takes all the values of a column given by the table from isnull() and gives the sum of the values (false --> 1, true --> 0)\n",
        "# boston_dataframe.isnull().sum().head(10)"
      ],
      "execution_count": 13,
      "outputs": []
    },
    {
      "cell_type": "code",
      "metadata": {
        "id": "N0QrNadwOTI0"
      },
      "source": [
        "# splitting the data into testing data and training data,\n",
        "from sklearn.model_selection import train_test_split\n",
        "\n",
        "X = boston_dataframe.drop('MEDV', axis=1)\n",
        "Y = boston_dataframe['MEDV']\n",
        "\n",
        "X_train, X_test, Y_train, Y_test = train_test_split(X, Y, test_size=0.5, random_state=5)\n",
        "\n",
        "# print(X_train.shape)\n",
        "# print(X_test.shape)\n",
        "# print(Y_train.shape)\n",
        "# print(Y_test.shape)"
      ],
      "execution_count": 14,
      "outputs": []
    },
    {
      "cell_type": "code",
      "metadata": {
        "id": "wUhBOnk1DD8z"
      },
      "source": [
        "from sklearn.linear_model import LinearRegression\n",
        "from sklearn.metrics import mean_squared_error"
      ],
      "execution_count": 15,
      "outputs": []
    },
    {
      "cell_type": "code",
      "metadata": {
        "id": "utWpXVdGOTF7",
        "colab": {
          "base_uri": "https://localhost:8080/"
        },
        "outputId": "6146ab0c-0a75-4a66-bec5-64dd5a515a3d"
      },
      "source": [
        "linear_model = LinearRegression()\n",
        "linear_model.fit(X_train, Y_train)"
      ],
      "execution_count": 16,
      "outputs": [
        {
          "output_type": "execute_result",
          "data": {
            "text/plain": [
              "LinearRegression(copy_X=True, fit_intercept=True, n_jobs=None, normalize=False)"
            ]
          },
          "metadata": {
            "tags": []
          },
          "execution_count": 16
        }
      ]
    },
    {
      "cell_type": "code",
      "metadata": {
        "id": "wICT65OsQ9yD"
      },
      "source": [
        "predicted_Y_train = linear_model.predict(X_train)\n",
        "# print(predicted_Y_train)    # this is the Y training data that is predicted using the training data of X,"
      ],
      "execution_count": null,
      "outputs": []
    },
    {
      "cell_type": "code",
      "metadata": {
        "colab": {
          "base_uri": "https://localhost:8080/"
        },
        "id": "Q6_a-Gn2RWvv",
        "outputId": "67f5b294-ab86-4d84-bc7c-ddb7545ca57b"
      },
      "source": [
        "rms_error = np.sqrt(mean_squared_error(Y_train, predicted_Y_train))\n",
        "\n",
        "print(\"The model performance for training set, \")\n",
        "print(\"Root mean squared error is {}\".format(rms_error))\n",
        "print(\"\")"
      ],
      "execution_count": 20,
      "outputs": [
        {
          "output_type": "stream",
          "text": [
            "The model performance for training set, \n",
            "Root mean squared error is 4.5238483448478695\n",
            "\n"
          ],
          "name": "stdout"
        }
      ]
    },
    {
      "cell_type": "code",
      "metadata": {
        "colab": {
          "base_uri": "https://localhost:8080/"
        },
        "id": "AcizdacQRteJ",
        "outputId": "0acc8946-5167-4508-e24b-58636a7adff9"
      },
      "source": [
        "predicted_Y_test = linear_model.predict(X_test)   # this is the Y testing data that is predicted using the testing data of X,\n",
        "rms_error_test = np.sqrt(mean_squared_error(Y_test, predicted_Y_test))    \n",
        "\n",
        "print(\"The model performance for testing set, \")\n",
        "print(\"Root mean squared error is {}\".format(rms_error_test))\n",
        "print(\"\")"
      ],
      "execution_count": 19,
      "outputs": [
        {
          "output_type": "stream",
          "text": [
            "The model performance for testing set\n",
            "Root mean squared error is 5.100818003852367\n",
            "\n"
          ],
          "name": "stdout"
        }
      ]
    }
  ]
}